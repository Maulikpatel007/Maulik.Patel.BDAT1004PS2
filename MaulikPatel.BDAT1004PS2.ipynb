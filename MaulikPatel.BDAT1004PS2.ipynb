{
 "cells": [
  {
   "cell_type": "markdown",
   "id": "92de0523",
   "metadata": {},
   "source": [
    "# Question 1"
   ]
  },
  {
   "cell_type": "markdown",
   "id": "42bbd03f",
   "metadata": {},
   "source": [
    "### What value is displayed when the last expression (a) is evaluated? Explain your Banswer by indicating what happens in every executed statement.\n"
   ]
  },
  {
   "cell_type": "code",
   "execution_count": 1,
   "id": "2517ee8c",
   "metadata": {},
   "outputs": [],
   "source": [
    "a = 0 \n",
    "def b():\n",
    "    global a\n",
    "    a = c(a)\n",
    "def c(a):\n",
    "    return a + 2"
   ]
  },
  {
   "cell_type": "code",
   "execution_count": 2,
   "id": "27436566",
   "metadata": {},
   "outputs": [],
   "source": [
    "b()"
   ]
  },
  {
   "cell_type": "code",
   "execution_count": 3,
   "id": "ba709732",
   "metadata": {},
   "outputs": [],
   "source": [
    "b()"
   ]
  },
  {
   "cell_type": "code",
   "execution_count": 5,
   "id": "6665b337",
   "metadata": {},
   "outputs": [],
   "source": [
    "b()"
   ]
  },
  {
   "cell_type": "code",
   "execution_count": 6,
   "id": "df333b9e",
   "metadata": {},
   "outputs": [
    {
     "data": {
      "text/plain": [
       "6"
      ]
     },
     "execution_count": 6,
     "metadata": {},
     "output_type": "execute_result"
    }
   ],
   "source": [
    "a"
   ]
  },
  {
   "cell_type": "markdown",
   "id": "d10cca28",
   "metadata": {},
   "source": [
    "a is initialized to 0.\n",
    "\n",
    "Three calls to the function b()\n",
    "\n",
    "A global variable a is declared whose value is the value returned by funtion c(a).\n",
    "\n",
    "First Call a=0, c(a) = a + 2 = 2\n",
    "\n",
    "Second Call a=2, c(a) = a + 2 = 4\n",
    "\n",
    "Third Call a=4, c(a) = a + 2 = 6"
   ]
  },
  {
   "cell_type": "markdown",
   "id": "0a5c3548",
   "metadata": {},
   "source": [
    "# Question 2"
   ]
  },
  {
   "cell_type": "markdown",
   "id": "049e4810",
   "metadata": {},
   "source": [
    "### Function fileLength(), given to you, takes the name of a file as input and returns the length of the file:"
   ]
  },
  {
   "cell_type": "code",
   "execution_count": 53,
   "id": "851a2a93",
   "metadata": {},
   "outputs": [],
   "source": [
    "def file_length(file_name):\n",
    "    try:\n",
    "        file = open(file_name)\n",
    "        contents = file.read()\n",
    "        file.close()\n",
    "        print(len(contents))\n",
    "    except (FileNotFoundError) as e:\n",
    "        print(f\"File {file_name} not found.\")"
   ]
  },
  {
   "cell_type": "code",
   "execution_count": 54,
   "id": "aa6dd407",
   "metadata": {},
   "outputs": [
    {
     "name": "stdout",
     "output_type": "stream",
     "text": [
      "14\n",
      "File idterm.py not found.\n"
     ]
    }
   ],
   "source": [
    "file_length('midterm.py')\n",
    "file_length('idterm.py')"
   ]
  },
  {
   "cell_type": "markdown",
   "id": "e86f07e5",
   "metadata": {},
   "source": [
    "# Question 3"
   ]
  },
  {
   "cell_type": "markdown",
   "id": "dd3fb08e",
   "metadata": {},
   "source": [
    "### Write a class named Marsupial that can be used as shown below:"
   ]
  },
  {
   "cell_type": "code",
   "execution_count": 16,
   "id": "dc504cf7",
   "metadata": {},
   "outputs": [],
   "source": [
    "class Marsupial:\n",
    "    def __init__(self):\n",
    "        self.pouch = []\n",
    "\n",
    "    def put_in_pouch(self, item):\n",
    "        self.pouch.append(item)\n",
    "\n",
    "    def pouch_contents(self):\n",
    "        return self.pouch"
   ]
  },
  {
   "cell_type": "code",
   "execution_count": 17,
   "id": "657bc009",
   "metadata": {},
   "outputs": [
    {
     "data": {
      "text/plain": [
       "['doll', 'firetruck', 'kitten']"
      ]
     },
     "execution_count": 17,
     "metadata": {},
     "output_type": "execute_result"
    }
   ],
   "source": [
    "m = Marsupial()\n",
    "m.put_in_pouch('doll')\n",
    "m.put_in_pouch('firetruck')\n",
    "m.put_in_pouch('kitten')\n",
    "m.pouch_contents()"
   ]
  },
  {
   "cell_type": "markdown",
   "id": "2651254e",
   "metadata": {},
   "source": [
    "### write a class named Kangaroo as a subclass of Marsupial that inherits all the attributes of Marsupial and also:\n",
    "### a. extends the Marsupial __init__ constructor to take, as input, the coordinates x and y of the Kangaroo object.\n",
    "### b. supports method jump that takes number values dx and dy as input and moves the kangaroo by dx units along the x-axis and by dy units along the y-axis\n",
    "### c. overloads the __str__ operator so it behaves as shown below."
   ]
  },
  {
   "cell_type": "code",
   "execution_count": 19,
   "id": "cfa9b75a",
   "metadata": {},
   "outputs": [],
   "source": [
    "class Kangaroo(Marsupial):\n",
    "    def __init__(self, x, y):\n",
    "        super().__init__()\n",
    "        self.x = x\n",
    "        self.y = y\n",
    "\n",
    "    def jump(self, dx, dy):\n",
    "        self.x += dx\n",
    "        self.y += dy\n",
    "\n",
    "    def __str__(self):\n",
    "        return f\"I am a Kangaroo located at coordinates ({self.x}, {self.y})\""
   ]
  },
  {
   "cell_type": "code",
   "execution_count": 21,
   "id": "903022d2",
   "metadata": {},
   "outputs": [
    {
     "name": "stdout",
     "output_type": "stream",
     "text": [
      "I am a Kangaroo located at coordinates (0, 0)\n",
      "['doll', 'firetruck', 'kitten']\n",
      "I am a Kangaroo located at coordinates (3, 0)\n"
     ]
    }
   ],
   "source": [
    "k = Kangaroo(0, 0)\n",
    "print(k)\n",
    "k.put_in_pouch('doll')\n",
    "k.put_in_pouch('firetruck')\n",
    "k.put_in_pouch('kitten')\n",
    "print(k.pouch_contents())\n",
    "k.jump(1,0)\n",
    "k.jump(1,0)\n",
    "k.jump(1,0)\n",
    "print(k)"
   ]
  },
  {
   "cell_type": "markdown",
   "id": "3dbd17d5",
   "metadata": {},
   "source": [
    "# Question 4"
   ]
  },
  {
   "cell_type": "markdown",
   "id": "9750a5e0",
   "metadata": {},
   "source": [
    "### Write function collatz() that takes a positive integer x as input and prints the Collatz sequence starting at x. A Collatz sequence is obtained by repeatedly applying this rule to the previous number x in the sequence:\n",
    "\n",
    "### x = 𝑥/2 𝑖𝑓 𝑥 𝑖𝑠 𝑒𝑣𝑒𝑛\n",
    "### 3𝑥 + 1 𝑖𝑓 𝑥 𝑖𝑠 𝑜𝑑𝑑\n",
    "\n",
    "### Your function should stop when the sequence gets to number 1. Your implementation must be recursive, without any loops"
   ]
  },
  {
   "cell_type": "code",
   "execution_count": 22,
   "id": "b0e6a380",
   "metadata": {},
   "outputs": [],
   "source": [
    "def collatz(x):\n",
    "    print(x)\n",
    "    if x == 1:\n",
    "        return\n",
    "    elif x % 2 == 0:\n",
    "        collatz(x // 2)\n",
    "    else:\n",
    "        collatz(3 * x + 1)"
   ]
  },
  {
   "cell_type": "code",
   "execution_count": 23,
   "id": "3fc4d66f",
   "metadata": {},
   "outputs": [
    {
     "name": "stdout",
     "output_type": "stream",
     "text": [
      "1\n"
     ]
    }
   ],
   "source": [
    "collatz(1)"
   ]
  },
  {
   "cell_type": "code",
   "execution_count": 24,
   "id": "574e8c57",
   "metadata": {},
   "outputs": [
    {
     "name": "stdout",
     "output_type": "stream",
     "text": [
      "10\n",
      "5\n",
      "16\n",
      "8\n",
      "4\n",
      "2\n",
      "1\n"
     ]
    }
   ],
   "source": [
    "collatz(10)"
   ]
  },
  {
   "cell_type": "markdown",
   "id": "d3d63c4d",
   "metadata": {},
   "source": [
    "# Question 5"
   ]
  },
  {
   "cell_type": "markdown",
   "id": "f00d482e",
   "metadata": {},
   "source": [
    "### Write a recursive method binary() that takes a non-negative integer n and prints the binary representation of integer n."
   ]
  },
  {
   "cell_type": "code",
   "execution_count": 25,
   "id": "5d5084a5",
   "metadata": {},
   "outputs": [],
   "source": [
    "def binary(n):\n",
    "    if n > 1:\n",
    "        binary(n // 2)\n",
    "    print(n % 2,end = '')"
   ]
  },
  {
   "cell_type": "code",
   "execution_count": 26,
   "id": "0ead64d0",
   "metadata": {},
   "outputs": [
    {
     "name": "stdout",
     "output_type": "stream",
     "text": [
      "binary(0):\n",
      "0\n",
      "binary(1):\n",
      "1\n",
      "binary(3):\n",
      "11\n",
      "binary(9):\n",
      "1001"
     ]
    }
   ],
   "source": [
    "print(\"binary(0):\")\n",
    "binary(0)\n",
    "print(\"\\nbinary(1):\")\n",
    "binary(1)\n",
    "print(\"\\nbinary(3):\") \n",
    "binary(3)\n",
    "print(\"\\nbinary(9):\")\n",
    "binary(9)"
   ]
  },
  {
   "cell_type": "markdown",
   "id": "7a5f33e0",
   "metadata": {},
   "source": [
    "# Question 6"
   ]
  },
  {
   "cell_type": "markdown",
   "id": "72a05f06",
   "metadata": {},
   "source": [
    "### Implement a class named HeadingParser that can be used to parse an HTML document, and retrieve and print all the headings in the document. You should implement your class as a subclass of HTMLParser, defined in Standard Library module html.parser. When fed a string containing HTML code, your class should print the headings, one per line and in the order in which they appear in the document. Each heading should be indented as follows: an h1 heading should have indentation 0, and h2 heading should have indentation 1, etc. Test your implementation using w3c.html."
   ]
  },
  {
   "cell_type": "code",
   "execution_count": 32,
   "id": "f2d43ad5",
   "metadata": {},
   "outputs": [
    {
     "name": "stdout",
     "output_type": "stream",
     "text": [
      "W3C Mission\n",
      " Principles\n"
     ]
    }
   ],
   "source": [
    "from html.parser import HTMLParser\n",
    "\n",
    "class HeadingParser(HTMLParser):\n",
    "    def __init__(self):\n",
    "        super().__init__()\n",
    "        self.headings = []\n",
    "        self.current_heading = \"\"\n",
    "        self.indentation = 0\n",
    "        self.inside_head = False\n",
    "\n",
    "    def handle_starttag(self, tag, attrs):\n",
    "        if tag == 'head':\n",
    "            self.inside_head = True\n",
    "        elif tag.startswith('h') and not self.inside_head and 'html' not in tag:\n",
    "            self.indentation = int(tag[1:]) - 1 # Set the indentation level based on the heading tag\n",
    "\n",
    "\n",
    "    def handle_endtag(self, tag):\n",
    "        if tag == 'head':\n",
    "            self.inside_head = False # Set the flag to False when encountering the closing </head> tag\n",
    "\n",
    "    def handle_data(self, data):\n",
    "        self.current_heading = data.strip()\n",
    "        if self.current_heading and not self.inside_head:\n",
    "            self.headings.append((' ' * self.indentation) + self.current_heading)\n",
    "\n",
    "    def print_headings(self):\n",
    "        for heading in self.headings:\n",
    "            print(heading)\n",
    "\n",
    "infile = open('w3c.html')\n",
    "content = infile.read()\n",
    "infile.close()\n",
    "\n",
    "hp = HeadingParser()\n",
    "hp.feed(content)\n",
    "hp.print_headings()"
   ]
  },
  {
   "cell_type": "markdown",
   "id": "afa9fdad",
   "metadata": {},
   "source": [
    "# Question 7"
   ]
  },
  {
   "cell_type": "markdown",
   "id": "0aba9e2b",
   "metadata": {},
   "source": [
    "### Implement recursive function webdir() that takes as input: a URL (as a string) and non-negative integers depth and indent. Your function should visit every web page reachable from the starting URL web page in depth clicks or less, and print each web page's URL. As shown below, indentation, specified by indent, should be used to indicate the depth of a URL."
   ]
  },
  {
   "cell_type": "code",
   "execution_count": 33,
   "id": "5a4728b3",
   "metadata": {},
   "outputs": [
    {
     "name": "stdout",
     "output_type": "stream",
     "text": [
      "http://web.simmons.edu/~grovesd/comm244/notes/week3/html-test-page.html\n",
      "    http://web.simmons.edu/~grovesd/comm244\n",
      "        http://web.simmons.edu/~grovesd/comm244/\n",
      "        http://web.simmons.edu/~grovesd/comm244/week1\n",
      "        http://web.simmons.edu/~grovesd/comm244/week2\n",
      "        http://web.simmons.edu/~grovesd/comm244/week3\n",
      "        http://web.simmons.edu/~grovesd/comm244/week4\n",
      "        http://web.simmons.edu/~grovesd/comm244/week5\n",
      "        http://web.simmons.edu/~grovesd/comm244/week6\n",
      "        http://web.simmons.edu/~grovesd/comm244/week7\n",
      "        http://web.simmons.edu/~grovesd/comm244/week8\n",
      "        http://web.simmons.edu/~grovesd/comm244/week9\n",
      "        http://web.simmons.edu/~grovesd/comm244/week10\n",
      "        http://web.simmons.edu/~grovesd/comm244/week11\n",
      "        http://web.simmons.edu/~grovesd/comm244/week12\n",
      "        http://web.simmons.edu/~grovesd/comm244/week13\n",
      "        http://web.simmons.edu/~grovesd/comm244/recipebook\n",
      "        http://web.simmons.edu/~grovesd/comm244/story\n",
      "        http://web.simmons.edu/~grovesd/comm244/final\n",
      "    http://web.simmons.edu/~grovesd/comm244/week3\n",
      "        http://web.simmons.edu/~grovesd/comm244/\n",
      "        http://validator.w3.org/\n",
      "        http://validator.nu/\n",
      "        https://developer.mozilla.org/en-US/docs/Learn/CSS/Introduction_to_CSS/How_CSS_works\n",
      "        https://developer.mozilla.org/en-US/docs/Learn/CSS/Introduction_to_CSS/Syntax\n",
      "        https://developer.mozilla.org/en-US/docs/Learn/CSS/Introduction_to_CSS/Selectors\n",
      "        https://developer.mozilla.org/en-US/docs/Learn/CSS/Introduction_to_CSS/Simple_selectors\n",
      "        http://www.w3schools.com/css/css_howto.asp\n",
      "        http://www.w3schools.com/css/css_text.asp\n",
      "        http://www.w3schools.com/css/css_list.asp\n",
      "        http://www.w3schools.com/css/css_border.asp\n",
      "        http://www.w3schools.com/css/css_font.asp\n",
      "        http://web.simmons.edu/~grovesd/comm244/week1\n",
      "        http://web.simmons.edu/~grovesd/comm244/week2\n",
      "        http://web.simmons.edu/~grovesd/comm244/week3\n",
      "        http://web.simmons.edu/~grovesd/comm244/week4\n",
      "        http://web.simmons.edu/~grovesd/comm244/week5\n",
      "        http://web.simmons.edu/~grovesd/comm244/week6\n",
      "        http://web.simmons.edu/~grovesd/comm244/week7\n",
      "        http://web.simmons.edu/~grovesd/comm244/week8\n",
      "        http://web.simmons.edu/~grovesd/comm244/week9\n",
      "        http://web.simmons.edu/~grovesd/comm244/week10\n",
      "        http://web.simmons.edu/~grovesd/comm244/week11\n",
      "        http://web.simmons.edu/~grovesd/comm244/week12\n",
      "        http://web.simmons.edu/~grovesd/comm244/week13\n",
      "        http://web.simmons.edu/~grovesd/comm244/recipebook\n",
      "        http://web.simmons.edu/~grovesd/comm244/story\n",
      "        http://web.simmons.edu/~grovesd/comm244/final\n"
     ]
    }
   ],
   "source": [
    "from urllib.request import urlopen\n",
    "from bs4 import BeautifulSoup\n",
    "\n",
    "def webdir(url, depth, indent):\n",
    "    # Base case: if depth is less than 0, return\n",
    "    if depth < 0:\n",
    "        return\n",
    "\n",
    "    try:\n",
    "        page = urlopen(url)\n",
    "    except:\n",
    "        return\n",
    "    \n",
    "# Create a BeautifulSoup object from the page content\n",
    "    soup = BeautifulSoup(page, 'html.parser')\n",
    "\n",
    "    print(' ' * indent + url)\n",
    "\n",
    "# Base case: if depth is 0, return\n",
    "    if depth == 0:\n",
    "        return\n",
    "\n",
    "# Recursive case: explore links within the page\n",
    "    for link in soup.find_all('a'):\n",
    "        href = link.get('href')\n",
    "        if href.startswith('http'):\n",
    "            webdir(href, depth - 1, indent + 4)\n",
    "\n",
    "\n",
    "webdir('http://web.simmons.edu/~grovesd/comm244/notes/week3/html-test-page.html', 2, 0)"
   ]
  },
  {
   "cell_type": "markdown",
   "id": "169d4977",
   "metadata": {},
   "source": [
    "# Question 8"
   ]
  },
  {
   "cell_type": "markdown",
   "id": "c53ed894",
   "metadata": {},
   "source": [
    "### Write SQL queries on the below database table that return:"
   ]
  },
  {
   "cell_type": "markdown",
   "id": "58bb3e1d",
   "metadata": {},
   "source": [
    "#### a) All the temperature data."
   ]
  },
  {
   "cell_type": "code",
   "execution_count": null,
   "id": "9c76570d",
   "metadata": {},
   "outputs": [],
   "source": [
    "SELECT Temperature FROM data;"
   ]
  },
  {
   "cell_type": "markdown",
   "id": "aebc6008",
   "metadata": {},
   "source": [
    "#### b) All the cities, but without repetition"
   ]
  },
  {
   "cell_type": "code",
   "execution_count": null,
   "id": "8c9942b5",
   "metadata": {},
   "outputs": [],
   "source": [
    "SELECT DISTINCT City FROM data;"
   ]
  },
  {
   "cell_type": "markdown",
   "id": "8ee249bd",
   "metadata": {},
   "source": [
    "#### c) All the records for India."
   ]
  },
  {
   "cell_type": "code",
   "execution_count": null,
   "id": "dbed1386",
   "metadata": {},
   "outputs": [],
   "source": [
    "SELECT * FROM table_name WHERE Country = 'India';"
   ]
  },
  {
   "cell_type": "markdown",
   "id": "dbfc6d3a",
   "metadata": {},
   "source": [
    "#### d) All the Fall records"
   ]
  },
  {
   "cell_type": "code",
   "execution_count": null,
   "id": "2c59c449",
   "metadata": {},
   "outputs": [],
   "source": [
    "SELECT * FROM table_name WHERE Season = 'Fall';"
   ]
  },
  {
   "cell_type": "markdown",
   "id": "8b0f3ab7",
   "metadata": {},
   "source": [
    "#### e) The city, country, and season for which the average rainfall is between 200 and 400 millimeters."
   ]
  },
  {
   "cell_type": "code",
   "execution_count": null,
   "id": "430df0b3",
   "metadata": {},
   "outputs": [],
   "source": [
    "SELECT City, Country, Season FROM table_name\n",
    "WHERE (SELECT AVG(`Rainfall (mm)`) FROM table_name) BETWEEN 200 AND 400;"
   ]
  },
  {
   "cell_type": "markdown",
   "id": "424afe09",
   "metadata": {},
   "source": [
    "#### f) The city and country for which the average Fall temperature is above 20 degrees, in increasing temperature order."
   ]
  },
  {
   "cell_type": "code",
   "execution_count": null,
   "id": "bbde5be5",
   "metadata": {},
   "outputs": [],
   "source": [
    "SELECT City, Country FROM table_name\n",
    "WHERE Season = 'Fall' AND Temperature > 20\n",
    "ORDER BY Temperature ASC;"
   ]
  },
  {
   "cell_type": "markdown",
   "id": "6dfa719b",
   "metadata": {},
   "source": [
    "#### g) The total annual rainfall for Cairo"
   ]
  },
  {
   "cell_type": "code",
   "execution_count": null,
   "id": "979d22c1",
   "metadata": {},
   "outputs": [],
   "source": [
    "SELECT SUM(`Rainfall (mm)`) FROM table_name WHERE City = 'Cairo';"
   ]
  },
  {
   "cell_type": "markdown",
   "id": "d1a5a0f2",
   "metadata": {},
   "source": [
    "#### h) The total rainfall for each season."
   ]
  },
  {
   "cell_type": "code",
   "execution_count": null,
   "id": "48faf9a7",
   "metadata": {},
   "outputs": [],
   "source": [
    "SELECT Season, SUM(`Rainfall (mm)`) FROM table_name GROUP BY Season;"
   ]
  },
  {
   "cell_type": "markdown",
   "id": "a269420f",
   "metadata": {},
   "source": [
    "# Question 9"
   ]
  },
  {
   "cell_type": "markdown",
   "id": "6b9d3ad8",
   "metadata": {},
   "source": [
    "### Suppose list words is defined as follows:"
   ]
  },
  {
   "cell_type": "code",
   "execution_count": 37,
   "id": "ede70280",
   "metadata": {},
   "outputs": [],
   "source": [
    "words = ['The', 'quick', 'brown', 'fox', 'jumps', 'over', 'the', 'lazy', 'dog']"
   ]
  },
  {
   "cell_type": "markdown",
   "id": "1dcccfd1",
   "metadata": {},
   "source": [
    "### Write list comprehension expressions that use list words and generate the following lists:"
   ]
  },
  {
   "cell_type": "markdown",
   "id": "730d2092",
   "metadata": {},
   "source": [
    "### a) Upper Case"
   ]
  },
  {
   "cell_type": "code",
   "execution_count": 38,
   "id": "daa255eb",
   "metadata": {},
   "outputs": [
    {
     "name": "stdout",
     "output_type": "stream",
     "text": [
      "['THE', 'QUICK', 'BROWN', 'FOX', 'JUMPS', 'OVER', 'THE', 'LAZY', 'DOG']\n"
     ]
    }
   ],
   "source": [
    "uppercase_words = [word.upper() for word in words]\n",
    "print(uppercase_words)"
   ]
  },
  {
   "cell_type": "markdown",
   "id": "27fbb870",
   "metadata": {},
   "source": [
    "### b) Lower Case"
   ]
  },
  {
   "cell_type": "code",
   "execution_count": 39,
   "id": "4e3a6353",
   "metadata": {},
   "outputs": [
    {
     "name": "stdout",
     "output_type": "stream",
     "text": [
      "['the', 'quick', 'brown', 'fox', 'jumps', 'over', 'the', 'lazy', 'dog']\n"
     ]
    }
   ],
   "source": [
    "lowercase_words = [word.lower() for word in words]\n",
    "print(lowercase_words)"
   ]
  },
  {
   "cell_type": "markdown",
   "id": "74f5015b",
   "metadata": {},
   "source": [
    "### c) Length of Words in List"
   ]
  },
  {
   "cell_type": "code",
   "execution_count": 40,
   "id": "793218e0",
   "metadata": {},
   "outputs": [
    {
     "name": "stdout",
     "output_type": "stream",
     "text": [
      "[3, 5, 5, 3, 5, 4, 3, 4, 3]\n"
     ]
    }
   ],
   "source": [
    "word_lengths = [len(word) for word in words]\n",
    "print(word_lengths)"
   ]
  },
  {
   "cell_type": "markdown",
   "id": "62993013",
   "metadata": {},
   "source": [
    "### d) The list containing a list for every word of list words, where each list contains the word in uppercase and lowercase and the length of the word."
   ]
  },
  {
   "cell_type": "code",
   "execution_count": 41,
   "id": "b4ff0cc0",
   "metadata": {},
   "outputs": [
    {
     "name": "stdout",
     "output_type": "stream",
     "text": [
      "[['THE', 'the', 3], ['QUICK', 'quick', 5], ['BROWN', 'brown', 5], ['FOX', 'fox', 3], ['JUMPS', 'jumps', 5], ['OVER', 'over', 4], ['THE', 'the', 3], ['LAZY', 'lazy', 4], ['DOG', 'dog', 3]]\n"
     ]
    }
   ],
   "source": [
    "word_info = [[word.upper(), word.lower(), len(word)] for word in words]\n",
    "print(word_info)"
   ]
  },
  {
   "cell_type": "markdown",
   "id": "c7a7a0cd",
   "metadata": {},
   "source": [
    "### e) The list of words in list words containing 4 or more characters"
   ]
  },
  {
   "cell_type": "code",
   "execution_count": 42,
   "id": "3602be67",
   "metadata": {},
   "outputs": [
    {
     "name": "stdout",
     "output_type": "stream",
     "text": [
      "['quick', 'brown', 'jumps', 'over', 'lazy']\n"
     ]
    }
   ],
   "source": [
    "long_words = [word for word in words if len(word) >= 4]\n",
    "print(long_words)"
   ]
  }
 ],
 "metadata": {
  "kernelspec": {
   "display_name": "Python 3 (ipykernel)",
   "language": "python",
   "name": "python3"
  },
  "language_info": {
   "codemirror_mode": {
    "name": "ipython",
    "version": 3
   },
   "file_extension": ".py",
   "mimetype": "text/x-python",
   "name": "python",
   "nbconvert_exporter": "python",
   "pygments_lexer": "ipython3",
   "version": "3.10.9"
  }
 },
 "nbformat": 4,
 "nbformat_minor": 5
}
