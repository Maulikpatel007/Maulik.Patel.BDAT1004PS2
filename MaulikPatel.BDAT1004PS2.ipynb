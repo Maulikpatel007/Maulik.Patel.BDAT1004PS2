{
 "cells": [
  {
   "cell_type": "markdown",
   "id": "9e9ab5d5",
   "metadata": {},
   "source": [
    "# Question 1"
   ]
  },
  {
   "cell_type": "markdown",
   "id": "1104d3be",
   "metadata": {},
   "source": [
    "### What value is displayed when the last expression (a) is evaluated? Explain your Banswer by indicating what happens in every executed statement.\n"
   ]
  },
  {
   "cell_type": "code",
   "execution_count": 1,
   "id": "6acfed0b",
   "metadata": {},
   "outputs": [],
   "source": [
    "a = 0 \n",
    "def b():\n",
    "    global a\n",
    "    a = c(a)\n",
    "def c(a):\n",
    "    return a + 2"
   ]
  },
  {
   "cell_type": "code",
   "execution_count": 2,
   "id": "250b2552",
   "metadata": {},
   "outputs": [],
   "source": [
    "b()"
   ]
  },
  {
   "cell_type": "code",
   "execution_count": 3,
   "id": "97f42edb",
   "metadata": {},
   "outputs": [],
   "source": [
    "b()"
   ]
  },
  {
   "cell_type": "code",
   "execution_count": 5,
   "id": "7022e16c",
   "metadata": {},
   "outputs": [],
   "source": [
    "b()"
   ]
  },
  {
   "cell_type": "code",
   "execution_count": 6,
   "id": "b9b75b84",
   "metadata": {},
   "outputs": [
    {
     "data": {
      "text/plain": [
       "6"
      ]
     },
     "execution_count": 6,
     "metadata": {},
     "output_type": "execute_result"
    }
   ],
   "source": [
    "a"
   ]
  },
  {
   "cell_type": "markdown",
   "id": "1659023c",
   "metadata": {},
   "source": [
    "a is initialized to 0.\n",
    "\n",
    "Three calls to the function b()\n",
    "\n",
    "A global variable a is declared whose value is the value returned by funtion c(a).\n",
    "\n",
    "First Call a=0, c(a) = a + 2 = 2\n",
    "\n",
    "Second Call a=2, c(a) = a + 2 = 4\n",
    "\n",
    "Third Call a=4, c(a) = a + 2 = 6"
   ]
  },
  {
   "cell_type": "markdown",
   "id": "4fb95d9b",
   "metadata": {},
   "source": [
    "# Question 2"
   ]
  },
  {
   "cell_type": "markdown",
   "id": "13ed65e2",
   "metadata": {},
   "source": [
    "### Function fileLength(), given to you, takes the name of a file as input and returns the length of the file:"
   ]
  },
  {
   "cell_type": "code",
   "execution_count": 9,
   "id": "dc7b40d6",
   "metadata": {},
   "outputs": [],
   "source": [
    "def file_length(file_name):\n",
    "    try:\n",
    "        file = open(file_name)\n",
    "        contents = file.read()\n",
    "        file.close()\n",
    "        print(len(contents))\n",
    "    except (FileNotFoundError) as e:\n",
    "        print(f\"File {file_name} not found.\")"
   ]
  },
  {
   "cell_type": "code",
   "execution_count": 15,
   "id": "9d62743a",
   "metadata": {},
   "outputs": [
    {
     "name": "stdout",
     "output_type": "stream",
     "text": [
      "File midterm.py not found.\n",
      "File idterm.py not found.\n"
     ]
    }
   ],
   "source": [
    "file_length('midterm.py')\n",
    "file_length('idterm.py')"
   ]
  },
  {
   "cell_type": "markdown",
   "id": "c9f231c5",
   "metadata": {},
   "source": [
    "# Question 3"
   ]
  },
  {
   "cell_type": "markdown",
   "id": "9660927a",
   "metadata": {},
   "source": [
    "### Write a class named Marsupial that can be used as shown below:"
   ]
  },
  {
   "cell_type": "code",
   "execution_count": 16,
   "id": "703f16f1",
   "metadata": {},
   "outputs": [],
   "source": [
    "class Marsupial:\n",
    "    def __init__(self):\n",
    "        self.pouch = []\n",
    "\n",
    "    def put_in_pouch(self, item):\n",
    "        self.pouch.append(item)\n",
    "\n",
    "    def pouch_contents(self):\n",
    "        return self.pouch"
   ]
  },
  {
   "cell_type": "code",
   "execution_count": 17,
   "id": "eb82eb77",
   "metadata": {},
   "outputs": [
    {
     "data": {
      "text/plain": [
       "['doll', 'firetruck', 'kitten']"
      ]
     },
     "execution_count": 17,
     "metadata": {},
     "output_type": "execute_result"
    }
   ],
   "source": [
    "m = Marsupial()\n",
    "m.put_in_pouch('doll')\n",
    "m.put_in_pouch('firetruck')\n",
    "m.put_in_pouch('kitten')\n",
    "m.pouch_contents()"
   ]
  },
  {
   "cell_type": "markdown",
   "id": "9db6f367",
   "metadata": {},
   "source": [
    "### write a class named Kangaroo as a subclass of Marsupial that inherits all the attributes of Marsupial and also:\n",
    "### a. extends the Marsupial __init__ constructor to take, as input, the coordinates x and y of the Kangaroo object.\n",
    "### b. supports method jump that takes number values dx and dy as input and moves the kangaroo by dx units along the x-axis and by dy units along the y-axis\n",
    "### c. overloads the __str__ operator so it behaves as shown below."
   ]
  },
  {
   "cell_type": "code",
   "execution_count": 19,
   "id": "e9baba5b",
   "metadata": {},
   "outputs": [],
   "source": [
    "class Kangaroo(Marsupial):\n",
    "    def __init__(self, x, y):\n",
    "        super().__init__()\n",
    "        self.x = x\n",
    "        self.y = y\n",
    "\n",
    "    def jump(self, dx, dy):\n",
    "        self.x += dx\n",
    "        self.y += dy\n",
    "\n",
    "    def __str__(self):\n",
    "        return f\"I am a Kangaroo located at coordinates ({self.x}, {self.y})\""
   ]
  },
  {
   "cell_type": "code",
   "execution_count": 21,
   "id": "ba8f4512",
   "metadata": {},
   "outputs": [
    {
     "name": "stdout",
     "output_type": "stream",
     "text": [
      "I am a Kangaroo located at coordinates (0, 0)\n",
      "['doll', 'firetruck', 'kitten']\n",
      "I am a Kangaroo located at coordinates (3, 0)\n"
     ]
    }
   ],
   "source": [
    "k = Kangaroo(0, 0)\n",
    "print(k)\n",
    "k.put_in_pouch('doll')\n",
    "k.put_in_pouch('firetruck')\n",
    "k.put_in_pouch('kitten')\n",
    "print(k.pouch_contents())\n",
    "k.jump(1,0)\n",
    "k.jump(1,0)\n",
    "k.jump(1,0)\n",
    "print(k)"
   ]
  },
  {
   "cell_type": "markdown",
   "id": "6f6e3184",
   "metadata": {},
   "source": [
    "# Question 4"
   ]
  },
  {
   "cell_type": "markdown",
   "id": "dd2eb2ea",
   "metadata": {},
   "source": [
    "### Write function collatz() that takes a positive integer x as input and prints the Collatz sequence starting at x. A Collatz sequence is obtained by repeatedly applying this rule to the previous number x in the sequence:\n",
    "\n",
    "### x = 𝑥/2 𝑖𝑓 𝑥 𝑖𝑠 𝑒𝑣𝑒𝑛\n",
    "### 3𝑥 + 1 𝑖𝑓 𝑥 𝑖𝑠 𝑜𝑑𝑑\n",
    "\n",
    "### Your function should stop when the sequence gets to number 1. Your implementation must be recursive, without any loops"
   ]
  },
  {
   "cell_type": "code",
   "execution_count": 22,
   "id": "6855981d",
   "metadata": {},
   "outputs": [],
   "source": [
    "def collatz(x):\n",
    "    print(x)\n",
    "    if x == 1:\n",
    "        return\n",
    "    elif x % 2 == 0:\n",
    "        collatz(x // 2)\n",
    "    else:\n",
    "        collatz(3 * x + 1)"
   ]
  },
  {
   "cell_type": "code",
   "execution_count": 23,
   "id": "76d63639",
   "metadata": {},
   "outputs": [
    {
     "name": "stdout",
     "output_type": "stream",
     "text": [
      "1\n"
     ]
    }
   ],
   "source": [
    "collatz(1)"
   ]
  },
  {
   "cell_type": "code",
   "execution_count": 24,
   "id": "f79b74c1",
   "metadata": {},
   "outputs": [
    {
     "name": "stdout",
     "output_type": "stream",
     "text": [
      "10\n",
      "5\n",
      "16\n",
      "8\n",
      "4\n",
      "2\n",
      "1\n"
     ]
    }
   ],
   "source": [
    "collatz(10)"
   ]
  },
  {
   "cell_type": "markdown",
   "id": "86069340",
   "metadata": {},
   "source": [
    "# Question 5"
   ]
  },
  {
   "cell_type": "markdown",
   "id": "a4364054",
   "metadata": {},
   "source": [
    "### Write a recursive method binary() that takes a non-negative integer n and prints the binary representation of integer n."
   ]
  },
  {
   "cell_type": "code",
   "execution_count": 25,
   "id": "15dc1cbf",
   "metadata": {},
   "outputs": [],
   "source": [
    "def binary(n):\n",
    "    if n > 1:\n",
    "        binary(n // 2)\n",
    "    print(n % 2,end = '')"
   ]
  },
  {
   "cell_type": "code",
   "execution_count": 26,
   "id": "0bed63fe",
   "metadata": {},
   "outputs": [
    {
     "name": "stdout",
     "output_type": "stream",
     "text": [
      "binary(0):\n",
      "0\n",
      "binary(1):\n",
      "1\n",
      "binary(3):\n",
      "11\n",
      "binary(9):\n",
      "1001"
     ]
    }
   ],
   "source": [
    "print(\"binary(0):\")\n",
    "binary(0)\n",
    "print(\"\\nbinary(1):\")\n",
    "binary(1)\n",
    "print(\"\\nbinary(3):\") \n",
    "binary(3)\n",
    "print(\"\\nbinary(9):\")\n",
    "binary(9)"
   ]
  },
  {
   "cell_type": "markdown",
   "id": "5971d49f",
   "metadata": {},
   "source": [
    "# Question 6"
   ]
  },
  {
   "cell_type": "markdown",
   "id": "1a393a30",
   "metadata": {},
   "source": [
    "### Implement a class named HeadingParser that can be used to parse an HTML document, and retrieve and print all the headings in the document. You should implement your class as a subclass of HTMLParser, defined in Standard Library module html.parser. When fed a string containing HTML code, your class should print the headings, one per line and in the order in which they appear in the document. Each heading should be indented as follows: an h1 heading should have indentation 0, and h2 heading should have indentation 1, etc. Test your implementation using w3c.html."
   ]
  },
  {
   "cell_type": "code",
   "execution_count": 32,
   "id": "926a11cd",
   "metadata": {},
   "outputs": [
    {
     "name": "stdout",
     "output_type": "stream",
     "text": [
      "W3C Mission\n",
      " Principles\n"
     ]
    }
   ],
   "source": [
    "from html.parser import HTMLParser\n",
    "\n",
    "class HeadingParser(HTMLParser):\n",
    "    def __init__(self):\n",
    "        super().__init__()\n",
    "        self.headings = []\n",
    "        self.current_heading = \"\"\n",
    "        self.indentation = 0\n",
    "        self.inside_head = False\n",
    "\n",
    "    def handle_starttag(self, tag, attrs):\n",
    "        if tag == 'head':\n",
    "            self.inside_head = True\n",
    "        elif tag.startswith('h') and not self.inside_head and 'html' not in tag:\n",
    "            self.indentation = int(tag[1:]) - 1 # Set the indentation level based on the heading tag\n",
    "\n",
    "\n",
    "    def handle_endtag(self, tag):\n",
    "        if tag == 'head':\n",
    "            self.inside_head = False # Set the flag to False when encountering the closing </head> tag\n",
    "\n",
    "    def handle_data(self, data):\n",
    "        self.current_heading = data.strip()\n",
    "        if self.current_heading and not self.inside_head:\n",
    "            self.headings.append((' ' * self.indentation) + self.current_heading)\n",
    "\n",
    "    def print_headings(self):\n",
    "        for heading in self.headings:\n",
    "            print(heading)\n",
    "\n",
    "infile = open('w3c.html')\n",
    "content = infile.read()\n",
    "infile.close()\n",
    "\n",
    "hp = HeadingParser()\n",
    "hp.feed(content)\n",
    "hp.print_headings()"
   ]
  },
  {
   "cell_type": "markdown",
   "id": "550f6165",
   "metadata": {},
   "source": [
    "# Question 7"
   ]
  },
  {
   "cell_type": "markdown",
   "id": "83a5d7e9",
   "metadata": {},
   "source": [
    "### Implement recursive function webdir() that takes as input: a URL (as a string) and non-negative integers depth and indent. Your function should visit every web page reachable from the starting URL web page in depth clicks or less, and print each web page's URL. As shown below, indentation, specified by indent, should be used to indicate the depth of a URL."
   ]
  },
  {
   "cell_type": "code",
   "execution_count": 33,
   "id": "cf96d79b",
   "metadata": {},
   "outputs": [
    {
     "name": "stdout",
     "output_type": "stream",
     "text": [
      "http://web.simmons.edu/~grovesd/comm244/notes/week3/html-test-page.html\n",
      "    http://web.simmons.edu/~grovesd/comm244\n",
      "        http://web.simmons.edu/~grovesd/comm244/\n",
      "        http://web.simmons.edu/~grovesd/comm244/week1\n",
      "        http://web.simmons.edu/~grovesd/comm244/week2\n",
      "        http://web.simmons.edu/~grovesd/comm244/week3\n",
      "        http://web.simmons.edu/~grovesd/comm244/week4\n",
      "        http://web.simmons.edu/~grovesd/comm244/week5\n",
      "        http://web.simmons.edu/~grovesd/comm244/week6\n",
      "        http://web.simmons.edu/~grovesd/comm244/week7\n",
      "        http://web.simmons.edu/~grovesd/comm244/week8\n",
      "        http://web.simmons.edu/~grovesd/comm244/week9\n",
      "        http://web.simmons.edu/~grovesd/comm244/week10\n",
      "        http://web.simmons.edu/~grovesd/comm244/week11\n",
      "        http://web.simmons.edu/~grovesd/comm244/week12\n",
      "        http://web.simmons.edu/~grovesd/comm244/week13\n",
      "        http://web.simmons.edu/~grovesd/comm244/recipebook\n",
      "        http://web.simmons.edu/~grovesd/comm244/story\n",
      "        http://web.simmons.edu/~grovesd/comm244/final\n",
      "    http://web.simmons.edu/~grovesd/comm244/week3\n",
      "        http://web.simmons.edu/~grovesd/comm244/\n",
      "        http://validator.w3.org/\n",
      "        http://validator.nu/\n",
      "        https://developer.mozilla.org/en-US/docs/Learn/CSS/Introduction_to_CSS/How_CSS_works\n",
      "        https://developer.mozilla.org/en-US/docs/Learn/CSS/Introduction_to_CSS/Syntax\n",
      "        https://developer.mozilla.org/en-US/docs/Learn/CSS/Introduction_to_CSS/Selectors\n",
      "        https://developer.mozilla.org/en-US/docs/Learn/CSS/Introduction_to_CSS/Simple_selectors\n",
      "        http://www.w3schools.com/css/css_howto.asp\n",
      "        http://www.w3schools.com/css/css_text.asp\n",
      "        http://www.w3schools.com/css/css_list.asp\n",
      "        http://www.w3schools.com/css/css_border.asp\n",
      "        http://www.w3schools.com/css/css_font.asp\n",
      "        http://web.simmons.edu/~grovesd/comm244/week1\n",
      "        http://web.simmons.edu/~grovesd/comm244/week2\n",
      "        http://web.simmons.edu/~grovesd/comm244/week3\n",
      "        http://web.simmons.edu/~grovesd/comm244/week4\n",
      "        http://web.simmons.edu/~grovesd/comm244/week5\n",
      "        http://web.simmons.edu/~grovesd/comm244/week6\n",
      "        http://web.simmons.edu/~grovesd/comm244/week7\n",
      "        http://web.simmons.edu/~grovesd/comm244/week8\n",
      "        http://web.simmons.edu/~grovesd/comm244/week9\n",
      "        http://web.simmons.edu/~grovesd/comm244/week10\n",
      "        http://web.simmons.edu/~grovesd/comm244/week11\n",
      "        http://web.simmons.edu/~grovesd/comm244/week12\n",
      "        http://web.simmons.edu/~grovesd/comm244/week13\n",
      "        http://web.simmons.edu/~grovesd/comm244/recipebook\n",
      "        http://web.simmons.edu/~grovesd/comm244/story\n",
      "        http://web.simmons.edu/~grovesd/comm244/final\n"
     ]
    }
   ],
   "source": [
    "from urllib.request import urlopen\n",
    "from bs4 import BeautifulSoup\n",
    "\n",
    "def webdir(url, depth, indent):\n",
    "    # Base case: if depth is less than 0, return\n",
    "    if depth < 0:\n",
    "        return\n",
    "\n",
    "    try:\n",
    "        page = urlopen(url)\n",
    "    except:\n",
    "        return\n",
    "    \n",
    "# Create a BeautifulSoup object from the page content\n",
    "    soup = BeautifulSoup(page, 'html.parser')\n",
    "\n",
    "    print(' ' * indent + url)\n",
    "\n",
    "# Base case: if depth is 0, return\n",
    "    if depth == 0:\n",
    "        return\n",
    "\n",
    "# Recursive case: explore links within the page\n",
    "    for link in soup.find_all('a'):\n",
    "        href = link.get('href')\n",
    "        if href.startswith('http'):\n",
    "            webdir(href, depth - 1, indent + 4)\n",
    "\n",
    "\n",
    "webdir('http://web.simmons.edu/~grovesd/comm244/notes/week3/html-test-page.html', 2, 0)"
   ]
  },
  {
   "cell_type": "markdown",
   "id": "7daeaa63",
   "metadata": {},
   "source": [
    "# Question 8"
   ]
  },
  {
   "cell_type": "markdown",
   "id": "f8b927ca",
   "metadata": {},
   "source": [
    "### Write SQL queries on the below database table that return:"
   ]
  },
  {
   "cell_type": "markdown",
   "id": "0b6b9dee",
   "metadata": {},
   "source": [
    "#### a) All the temperature data."
   ]
  },
  {
   "cell_type": "code",
   "execution_count": null,
   "id": "92183695",
   "metadata": {},
   "outputs": [],
   "source": [
    "SELECT Temperature FROM data;"
   ]
  },
  {
   "cell_type": "markdown",
   "id": "d9b5e73e",
   "metadata": {},
   "source": [
    "#### b) All the cities, but without repetition"
   ]
  },
  {
   "cell_type": "code",
   "execution_count": null,
   "id": "7aa3481a",
   "metadata": {},
   "outputs": [],
   "source": [
    "SELECT DISTINCT City FROM data;"
   ]
  },
  {
   "cell_type": "markdown",
   "id": "4e8a62a6",
   "metadata": {},
   "source": [
    "#### c) All the records for India."
   ]
  },
  {
   "cell_type": "code",
   "execution_count": null,
   "id": "176eb680",
   "metadata": {},
   "outputs": [],
   "source": [
    "SELECT * FROM table_name WHERE Country = 'India';"
   ]
  },
  {
   "cell_type": "markdown",
   "id": "9eead874",
   "metadata": {},
   "source": [
    "#### d) All the Fall records"
   ]
  },
  {
   "cell_type": "code",
   "execution_count": null,
   "id": "b8e7104f",
   "metadata": {},
   "outputs": [],
   "source": [
    "SELECT * FROM table_name WHERE Season = 'Fall';"
   ]
  },
  {
   "cell_type": "markdown",
   "id": "54d62a69",
   "metadata": {},
   "source": [
    "#### e) The city, country, and season for which the average rainfall is between 200 and 400 millimeters."
   ]
  },
  {
   "cell_type": "code",
   "execution_count": null,
   "id": "cd8914c3",
   "metadata": {},
   "outputs": [],
   "source": [
    "SELECT City, Country, Season FROM table_name\n",
    "WHERE (SELECT AVG(`Rainfall (mm)`) FROM table_name) BETWEEN 200 AND 400;"
   ]
  },
  {
   "cell_type": "markdown",
   "id": "5ea583bc",
   "metadata": {},
   "source": [
    "#### f) The city and country for which the average Fall temperature is above 20 degrees, in increasing temperature order."
   ]
  },
  {
   "cell_type": "code",
   "execution_count": null,
   "id": "adbe0569",
   "metadata": {},
   "outputs": [],
   "source": [
    "SELECT City, Country FROM table_name\n",
    "WHERE Season = 'Fall' AND Temperature > 20\n",
    "ORDER BY Temperature ASC;"
   ]
  },
  {
   "cell_type": "markdown",
   "id": "59b481d1",
   "metadata": {},
   "source": [
    "#### g) The total annual rainfall for Cairo"
   ]
  },
  {
   "cell_type": "code",
   "execution_count": null,
   "id": "0375cdbf",
   "metadata": {},
   "outputs": [],
   "source": [
    "SELECT SUM(`Rainfall (mm)`) FROM table_name WHERE City = 'Cairo';"
   ]
  },
  {
   "cell_type": "markdown",
   "id": "f2de52c3",
   "metadata": {},
   "source": [
    "#### h) The total rainfall for each season."
   ]
  },
  {
   "cell_type": "code",
   "execution_count": null,
   "id": "00dc18b1",
   "metadata": {},
   "outputs": [],
   "source": [
    "SELECT Season, SUM(`Rainfall (mm)`) FROM table_name GROUP BY Season;"
   ]
  },
  {
   "cell_type": "markdown",
   "id": "6654fd36",
   "metadata": {},
   "source": [
    "# Question 9"
   ]
  },
  {
   "cell_type": "markdown",
   "id": "2f3b271d",
   "metadata": {},
   "source": [
    "### Suppose list words is defined as follows:"
   ]
  },
  {
   "cell_type": "code",
   "execution_count": 37,
   "id": "38d42b00",
   "metadata": {},
   "outputs": [],
   "source": [
    "words = ['The', 'quick', 'brown', 'fox', 'jumps', 'over', 'the', 'lazy', 'dog']"
   ]
  },
  {
   "cell_type": "markdown",
   "id": "2e1442c5",
   "metadata": {},
   "source": [
    "### Write list comprehension expressions that use list words and generate the following lists:"
   ]
  },
  {
   "cell_type": "markdown",
   "id": "638690f5",
   "metadata": {},
   "source": [
    "### a) Upper Case"
   ]
  },
  {
   "cell_type": "code",
   "execution_count": 38,
   "id": "2bc4fd77",
   "metadata": {},
   "outputs": [
    {
     "name": "stdout",
     "output_type": "stream",
     "text": [
      "['THE', 'QUICK', 'BROWN', 'FOX', 'JUMPS', 'OVER', 'THE', 'LAZY', 'DOG']\n"
     ]
    }
   ],
   "source": [
    "uppercase_words = [word.upper() for word in words]\n",
    "print(uppercase_words)"
   ]
  },
  {
   "cell_type": "markdown",
   "id": "7b090f2d",
   "metadata": {},
   "source": [
    "### b) Lower Case"
   ]
  },
  {
   "cell_type": "code",
   "execution_count": 39,
   "id": "52ac9d67",
   "metadata": {},
   "outputs": [
    {
     "name": "stdout",
     "output_type": "stream",
     "text": [
      "['the', 'quick', 'brown', 'fox', 'jumps', 'over', 'the', 'lazy', 'dog']\n"
     ]
    }
   ],
   "source": [
    "lowercase_words = [word.lower() for word in words]\n",
    "print(lowercase_words)"
   ]
  },
  {
   "cell_type": "markdown",
   "id": "12debbfa",
   "metadata": {},
   "source": [
    "### c) Length of Words in List"
   ]
  },
  {
   "cell_type": "code",
   "execution_count": 40,
   "id": "0d8ed9e2",
   "metadata": {},
   "outputs": [
    {
     "name": "stdout",
     "output_type": "stream",
     "text": [
      "[3, 5, 5, 3, 5, 4, 3, 4, 3]\n"
     ]
    }
   ],
   "source": [
    "word_lengths = [len(word) for word in words]\n",
    "print(word_lengths)"
   ]
  },
  {
   "cell_type": "markdown",
   "id": "9d92238b",
   "metadata": {},
   "source": [
    "### d) The list containing a list for every word of list words, where each list contains the word in uppercase and lowercase and the length of the word."
   ]
  },
  {
   "cell_type": "code",
   "execution_count": 41,
   "id": "abcd080e",
   "metadata": {},
   "outputs": [
    {
     "name": "stdout",
     "output_type": "stream",
     "text": [
      "[['THE', 'the', 3], ['QUICK', 'quick', 5], ['BROWN', 'brown', 5], ['FOX', 'fox', 3], ['JUMPS', 'jumps', 5], ['OVER', 'over', 4], ['THE', 'the', 3], ['LAZY', 'lazy', 4], ['DOG', 'dog', 3]]\n"
     ]
    }
   ],
   "source": [
    "word_info = [[word.upper(), word.lower(), len(word)] for word in words]\n",
    "print(word_info)"
   ]
  },
  {
   "cell_type": "markdown",
   "id": "f4e163f6",
   "metadata": {},
   "source": [
    "### e) The list of words in list words containing 4 or more characters"
   ]
  },
  {
   "cell_type": "code",
   "execution_count": 42,
   "id": "6a029092",
   "metadata": {},
   "outputs": [
    {
     "name": "stdout",
     "output_type": "stream",
     "text": [
      "['quick', 'brown', 'jumps', 'over', 'lazy']\n"
     ]
    }
   ],
   "source": [
    "long_words = [word for word in words if len(word) >= 4]\n",
    "print(long_words)"
   ]
  }
 ],
 "metadata": {
  "kernelspec": {
   "display_name": "Python 3 (ipykernel)",
   "language": "python",
   "name": "python3"
  },
  "language_info": {
   "codemirror_mode": {
    "name": "ipython",
    "version": 3
   },
   "file_extension": ".py",
   "mimetype": "text/x-python",
   "name": "python",
   "nbconvert_exporter": "python",
   "pygments_lexer": "ipython3",
   "version": "3.10.9"
  }
 },
 "nbformat": 4,
 "nbformat_minor": 5
}
